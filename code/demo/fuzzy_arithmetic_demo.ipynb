{
 "cells": [
  {
   "cell_type": "markdown",
   "metadata": {},
   "source": [
    "# Observing Imprecisions in Floating-Point Arithmetic"
   ]
  },
  {
   "cell_type": "markdown",
   "metadata": {},
   "source": [
    "- Imprecisions are present in floating point arithmetic\n",
    "- Machines store finite representations of data, and inexact values must be rounded\n",
    "- Even \"exact\" values at different magnitudes cannot necessarily be used together without the introduction of error\n",
    "- You can demonstrate this with Python3 out-of-the-box"
   ]
  },
  {
   "cell_type": "code",
   "execution_count": 22,
   "metadata": {},
   "outputs": [],
   "source": [
    "def count_to_one(N):\n",
    "    step = 1.0 / N\n",
    "    return sum([step for _ in range(N)])"
   ]
  },
  {
   "cell_type": "markdown",
   "metadata": {},
   "source": [
    "- The function above should return the number 1: we're adding N steps of size 1/N together"
   ]
  },
  {
   "cell_type": "code",
   "execution_count": 24,
   "metadata": {},
   "outputs": [
    {
     "name": "stdout",
     "output_type": "stream",
     "text": [
      "1.0000000000000007\n"
     ]
    }
   ],
   "source": [
    "N = 100\n",
    "print(count_to_one(N))"
   ]
  },
  {
   "cell_type": "markdown",
   "metadata": {},
   "source": [
    "- That didn't give us the number 1...\n",
    "- It's _close_, but not exact. Is it random/probabilistic?\n",
    "- Let's run it 5 more times"
   ]
  },
  {
   "cell_type": "code",
   "execution_count": 25,
   "metadata": {},
   "outputs": [
    {
     "name": "stdout",
     "output_type": "stream",
     "text": [
      "1.0000000000000007\n",
      "1.0000000000000007\n",
      "1.0000000000000007\n",
      "1.0000000000000007\n",
      "1.0000000000000007\n"
     ]
    }
   ],
   "source": [
    "N = 100\n",
    "for _ in range(5):\n",
    "    print(count_to_one(N))"
   ]
  },
  {
   "cell_type": "markdown",
   "metadata": {},
   "source": [
    "- So we're getting the _same_ *wrong* answer each time\n",
    "- Does the value we pick for N make a difference?"
   ]
  },
  {
   "cell_type": "code",
   "execution_count": 32,
   "metadata": {},
   "outputs": [
    {
     "name": "stdout",
     "output_type": "stream",
     "text": [
      "N = 10000\n",
      "0.9999999999999062\n",
      "0.9999999999999062\n",
      "0.9999999999999062\n",
      "0.9999999999999062\n",
      "0.9999999999999062\n",
      "N = 1000000\n",
      "1.000000000007918\n",
      "1.000000000007918\n",
      "1.000000000007918\n",
      "1.000000000007918\n",
      "1.000000000007918\n"
     ]
    }
   ],
   "source": [
    "for N in [10000, 1000000]:\n",
    "    print(\"N = {0}\".format(N))\n",
    "    for _ in range(5):\n",
    "        print(count_to_one(N))"
   ]
  },
  {
   "cell_type": "markdown",
   "metadata": {},
   "source": [
    "- we see both under- and over-estimations that are consistent for each value of N we tried\n",
    "- it so happens, decimal multiples of 10 cannot be stored in finite bits (like many, many other decimal numbers)\n",
    "- the initial division in our function introduced a bit of error\n",
    "- the subsequent addition of this incorrect value compounded the difference\n",
    "- does this problem also exist for other datatypes?"
   ]
  },
  {
   "cell_type": "code",
   "execution_count": 61,
   "metadata": {},
   "outputs": [],
   "source": [
    "import numpy as np\n",
    "\n",
    "def count_to_one(N, dtype=float):\n",
    "    N = dtype(N)\n",
    "    step = dtype(1.0) / N\n",
    "    return np.sum([step for _ in range(int(N))])"
   ]
  },
  {
   "cell_type": "code",
   "execution_count": 63,
   "metadata": {},
   "outputs": [
    {
     "name": "stdout",
     "output_type": "stream",
     "text": [
      "N = 100\n",
      "  0.9999999999999999 (int)\n",
      "  0.9999999999999999 (float)\n",
      "  0.9999999999999999 (int32)\n",
      "  0.9999999999999999 (int64)\n",
      "  0.9999998211860657 (float32)\n",
      "  0.9999999999999999 (float64)\n",
      "N = 10000\n",
      "  1.0000000000000004 (int)\n",
      "  1.0000000000000004 (float)\n",
      "  1.0000000000000004 (int32)\n",
      "  1.0000000000000004 (int64)\n",
      "  0.9999997615814209 (float32)\n",
      "  1.0000000000000004 (float64)\n",
      "N = 1000000\n",
      "  0.9999999999999981 (int)\n",
      "  0.9999999999999981 (float)\n",
      "  0.9999999999999981 (int32)\n",
      "  0.9999999999999981 (int64)\n",
      "  1.000000238418579 (float32)\n",
      "  0.9999999999999981 (float64)\n"
     ]
    }
   ],
   "source": [
    "for N in [100, 10000, 1000000]:\n",
    "    print(\"N = {0}\".format(N))\n",
    "    for dt in [int, float, np.int32, np.int64, np.float32, np.float64]:\n",
    "        print(\"  {0} ({1})\".format(count_to_one(N, dt),\n",
    "                                   dt.__name__))"
   ]
  },
  {
   "cell_type": "code",
   "execution_count": null,
   "metadata": {},
   "outputs": [],
   "source": []
  }
 ],
 "metadata": {
  "kernelspec": {
   "display_name": "Python 3",
   "language": "python",
   "name": "python3"
  },
  "language_info": {
   "codemirror_mode": {
    "name": "ipython",
    "version": 3
   },
   "file_extension": ".py",
   "mimetype": "text/x-python",
   "name": "python",
   "nbconvert_exporter": "python",
   "pygments_lexer": "ipython3",
   "version": "3.7.4"
  }
 },
 "nbformat": 4,
 "nbformat_minor": 2
}
